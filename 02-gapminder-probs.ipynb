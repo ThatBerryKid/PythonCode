{
  "cells": [
    {
      "metadata": {},
      "cell_type": "markdown",
      "source": "# Review"
    },
    {
      "metadata": {},
      "cell_type": "markdown",
      "source": "1. Import `pandas` and load in the file called `gapminder_gdp_oceania.csv`"
    },
    {
      "metadata": {
        "trusted": true
      },
      "cell_type": "code",
      "source": "%%bash \nls data/ -F",
      "execution_count": 1,
      "outputs": [
        {
          "output_type": "stream",
          "text": "gapminder_gdp_americas.csv\ngapminder_gdp_europe.csv\ngapminder_gdp_oceania.csv\n",
          "name": "stdout"
        }
      ]
    },
    {
      "metadata": {},
      "cell_type": "markdown",
      "source": "1. Re-import the data, this time setting the `index_col` argument to the `country` variable."
    },
    {
      "metadata": {
        "trusted": true
      },
      "cell_type": "code",
      "source": "import pandas as pd\ndf = pd.read_csv('data/gapminder_gdp_oceania.csv')",
      "execution_count": 2,
      "outputs": []
    },
    {
      "metadata": {},
      "cell_type": "markdown",
      "source": "1. Describe the variables and datatypes"
    },
    {
      "metadata": {
        "trusted": true
      },
      "cell_type": "code",
      "source": "df = pd.read_csv('data/gapminder_gdp_oceania.csv', index_col='country')\ndf.info()",
      "execution_count": 3,
      "outputs": [
        {
          "output_type": "stream",
          "text": "<class 'pandas.core.frame.DataFrame'>\nIndex: 2 entries, Australia to New Zealand\nData columns (total 12 columns):\ngdpPercap_1952    2 non-null float64\ngdpPercap_1957    2 non-null float64\ngdpPercap_1962    2 non-null float64\ngdpPercap_1967    2 non-null float64\ngdpPercap_1972    2 non-null float64\ngdpPercap_1977    2 non-null float64\ngdpPercap_1982    2 non-null float64\ngdpPercap_1987    2 non-null float64\ngdpPercap_1992    2 non-null float64\ngdpPercap_1997    2 non-null float64\ngdpPercap_2002    2 non-null float64\ngdpPercap_2007    2 non-null float64\ndtypes: float64(12)\nmemory usage: 208.0+ bytes\n",
          "name": "stdout"
        }
      ]
    },
    {
      "metadata": {
        "trusted": true
      },
      "cell_type": "code",
      "source": "americas = pd.read_csv('data/gapminder_gdp_americas.csv', index_col='country')",
      "execution_count": 4,
      "outputs": []
    },
    {
      "metadata": {},
      "cell_type": "markdown",
      "source": "- Do the same for the file `gapminder_gdp_americas.csv`"
    },
    {
      "metadata": {
        "trusted": true
      },
      "cell_type": "code",
      "source": "americas.info()",
      "execution_count": 5,
      "outputs": [
        {
          "output_type": "stream",
          "text": "<class 'pandas.core.frame.DataFrame'>\nIndex: 25 entries, Argentina to Venezuela\nData columns (total 13 columns):\ncontinent         25 non-null object\ngdpPercap_1952    25 non-null float64\ngdpPercap_1957    25 non-null float64\ngdpPercap_1962    25 non-null float64\ngdpPercap_1967    25 non-null float64\ngdpPercap_1972    25 non-null float64\ngdpPercap_1977    25 non-null float64\ngdpPercap_1982    25 non-null float64\ngdpPercap_1987    25 non-null float64\ngdpPercap_1992    25 non-null float64\ngdpPercap_1997    25 non-null float64\ngdpPercap_2002    25 non-null float64\ngdpPercap_2007    25 non-null float64\ndtypes: float64(12), object(1)\nmemory usage: 2.7+ KB\n",
          "name": "stdout"
        }
      ]
    },
    {
      "metadata": {},
      "cell_type": "markdown",
      "source": "- Use `.iloc` to select the object in the `[0, 0]` position.  What does this value correspond to?"
    },
    {
      "metadata": {
        "trusted": true
      },
      "cell_type": "code",
      "source": "americas.iloc[0,0]",
      "execution_count": 6,
      "outputs": [
        {
          "output_type": "execute_result",
          "execution_count": 6,
          "data": {
            "text/plain": "'Americas'"
          },
          "metadata": {}
        }
      ]
    },
    {
      "metadata": {},
      "cell_type": "markdown",
      "source": "- Use `.loc` to select all rows containing the variable `Albania`"
    },
    {
      "metadata": {
        "trusted": true
      },
      "cell_type": "code",
      "source": "#To find all for the rows\namericas.loc['Peru',:]",
      "execution_count": 7,
      "outputs": [
        {
          "output_type": "execute_result",
          "execution_count": 7,
          "data": {
            "text/plain": "continent         Americas\ngdpPercap_1952     3758.52\ngdpPercap_1957     4245.26\ngdpPercap_1962     4957.04\ngdpPercap_1967     5788.09\ngdpPercap_1972     5937.83\ngdpPercap_1977     6281.29\ngdpPercap_1982      6434.5\ngdpPercap_1987     6360.94\ngdpPercap_1992     4446.38\ngdpPercap_1997     5838.35\ngdpPercap_2002     5909.02\ngdpPercap_2007     7408.91\nName: Peru, dtype: object"
          },
          "metadata": {}
        }
      ]
    },
    {
      "metadata": {},
      "cell_type": "markdown",
      "source": "- Use `.loc` to select all columns for the variable `gdpPercap_1952`"
    },
    {
      "metadata": {
        "trusted": true
      },
      "cell_type": "code",
      "source": "americas.loc [\"Peru\", \"gdpPercap_1997\" :]",
      "execution_count": 8,
      "outputs": [
        {
          "output_type": "execute_result",
          "execution_count": 8,
          "data": {
            "text/plain": "gdpPercap_1997    5838.35\ngdpPercap_2002    5909.02\ngdpPercap_2007    7408.91\nName: Peru, dtype: object"
          },
          "metadata": {}
        }
      ]
    },
    {
      "metadata": {
        "trusted": true
      },
      "cell_type": "code",
      "source": "#To find all for the coloums\namericas.loc[:, \"gdpPercap_1952\"]",
      "execution_count": 9,
      "outputs": [
        {
          "output_type": "execute_result",
          "execution_count": 9,
          "data": {
            "text/plain": "country\nArgentina               5911.315053\nBolivia                 2677.326347\nBrazil                  2108.944355\nCanada                 11367.161120\nChile                   3939.978789\nColombia                2144.115096\nCosta Rica              2627.009471\nCuba                    5586.538780\nDominican Republic      1397.717137\nEcuador                 3522.110717\nEl Salvador             3048.302900\nGuatemala               2428.237769\nHaiti                   1840.366939\nHonduras                2194.926204\nJamaica                 2898.530881\nMexico                  3478.125529\nNicaragua               3112.363948\nPanama                  2480.380334\nParaguay                1952.308701\nPeru                    3758.523437\nPuerto Rico             3081.959785\nTrinidad and Tobago     3023.271928\nUnited States          13990.482080\nUruguay                 5716.766744\nVenezuela               7689.799761\nName: gdpPercap_1952, dtype: float64"
          },
          "metadata": {}
        }
      ]
    },
    {
      "metadata": {},
      "cell_type": "markdown",
      "source": "- What does the following line of code do to the dataframe `data`:\n\n```python \nprint(data.loc['Italy':'Poland', 'gdpPercap_1962':'gdpPercap_1972'])\n```"
    },
    {
      "metadata": {
        "trusted": true
      },
      "cell_type": "code",
      "source": "print(americas.loc['Haiti':'Mexico', 'gdpPercap_1962':'gdpPercap_1972'])",
      "execution_count": 10,
      "outputs": [
        {
          "output_type": "stream",
          "text": "          gdpPercap_1962  gdpPercap_1967  gdpPercap_1972\ncountry                                                 \nHaiti        1796.589032     1452.057666     1654.456946\nHonduras     2291.156835     2538.269358     2529.842345\nJamaica      5246.107524     6124.703451     7433.889293\nMexico       4581.609385     5754.733883     6809.406690\n",
          "name": "stdout"
        }
      ]
    },
    {
      "metadata": {
        "trusted": true
      },
      "cell_type": "code",
      "source": "",
      "execution_count": null,
      "outputs": []
    },
    {
      "metadata": {},
      "cell_type": "markdown",
      "source": "- Use the results of the above code and apply the `max()` method to the slice."
    },
    {
      "metadata": {
        "trusted": true
      },
      "cell_type": "code",
      "source": "print(americas.loc['Haiti':'Mexico', 'gdpPercap_1962':'gdpPercap_1972'].max)",
      "execution_count": 11,
      "outputs": [
        {
          "output_type": "stream",
          "text": "<bound method DataFrame.max of           gdpPercap_1962  gdpPercap_1967  gdpPercap_1972\ncountry                                                 \nHaiti        1796.589032     1452.057666     1654.456946\nHonduras     2291.156835     2538.269358     2529.842345\nJamaica      5246.107524     6124.703451     7433.889293\nMexico       4581.609385     5754.733883     6809.406690>\n",
          "name": "stdout"
        }
      ]
    },
    {
      "metadata": {
        "trusted": true
      },
      "cell_type": "code",
      "source": "",
      "execution_count": null,
      "outputs": []
    },
    {
      "metadata": {},
      "cell_type": "markdown",
      "source": "- Select the rows of the dataframe where the variable `gdpPercap_1972` is greater than 13,000.  How many countries are there?"
    },
    {
      "metadata": {
        "trusted": true
      },
      "cell_type": "code",
      "source": "europe = pd.read_csv(\"data/gapminder_gdp_europe.csv\", index_col ='country')\nnewInfo = europe[europe['gdpPercap_1972'] > 13000]\nnewInfo",
      "execution_count": 12,
      "outputs": [
        {
          "output_type": "execute_result",
          "execution_count": 12,
          "data": {
            "text/html": "<div>\n<table border=\"1\" class=\"dataframe\">\n  <thead>\n    <tr style=\"text-align: right;\">\n      <th></th>\n      <th>gdpPercap_1952</th>\n      <th>gdpPercap_1957</th>\n      <th>gdpPercap_1962</th>\n      <th>gdpPercap_1967</th>\n      <th>gdpPercap_1972</th>\n      <th>gdpPercap_1977</th>\n      <th>gdpPercap_1982</th>\n      <th>gdpPercap_1987</th>\n      <th>gdpPercap_1992</th>\n      <th>gdpPercap_1997</th>\n      <th>gdpPercap_2002</th>\n      <th>gdpPercap_2007</th>\n    </tr>\n    <tr>\n      <th>country</th>\n      <th></th>\n      <th></th>\n      <th></th>\n      <th></th>\n      <th></th>\n      <th></th>\n      <th></th>\n      <th></th>\n      <th></th>\n      <th></th>\n      <th></th>\n      <th></th>\n    </tr>\n  </thead>\n  <tbody>\n    <tr>\n      <th>Austria</th>\n      <td>6137.076492</td>\n      <td>8842.598030</td>\n      <td>10750.721110</td>\n      <td>12834.60240</td>\n      <td>16661.62560</td>\n      <td>19749.42230</td>\n      <td>21597.08362</td>\n      <td>23687.82607</td>\n      <td>27042.01868</td>\n      <td>29095.92066</td>\n      <td>32417.60769</td>\n      <td>36126.49270</td>\n    </tr>\n    <tr>\n      <th>Belgium</th>\n      <td>8343.105127</td>\n      <td>9714.960623</td>\n      <td>10991.206760</td>\n      <td>13149.04119</td>\n      <td>16672.14356</td>\n      <td>19117.97448</td>\n      <td>20979.84589</td>\n      <td>22525.56308</td>\n      <td>25575.57069</td>\n      <td>27561.19663</td>\n      <td>30485.88375</td>\n      <td>33692.60508</td>\n    </tr>\n    <tr>\n      <th>Czech Republic</th>\n      <td>6876.140250</td>\n      <td>8256.343918</td>\n      <td>10136.867130</td>\n      <td>11399.44489</td>\n      <td>13108.45360</td>\n      <td>14800.16062</td>\n      <td>15377.22855</td>\n      <td>16310.44340</td>\n      <td>14297.02122</td>\n      <td>16048.51424</td>\n      <td>17596.21022</td>\n      <td>22833.30851</td>\n    </tr>\n    <tr>\n      <th>Denmark</th>\n      <td>9692.385245</td>\n      <td>11099.659350</td>\n      <td>13583.313510</td>\n      <td>15937.21123</td>\n      <td>18866.20721</td>\n      <td>20422.90150</td>\n      <td>21688.04048</td>\n      <td>25116.17581</td>\n      <td>26406.73985</td>\n      <td>29804.34567</td>\n      <td>32166.50006</td>\n      <td>35278.41874</td>\n    </tr>\n    <tr>\n      <th>Finland</th>\n      <td>6424.519071</td>\n      <td>7545.415386</td>\n      <td>9371.842561</td>\n      <td>10921.63626</td>\n      <td>14358.87590</td>\n      <td>15605.42283</td>\n      <td>18533.15761</td>\n      <td>21141.01223</td>\n      <td>20647.16499</td>\n      <td>23723.95020</td>\n      <td>28204.59057</td>\n      <td>33207.08440</td>\n    </tr>\n    <tr>\n      <th>France</th>\n      <td>7029.809327</td>\n      <td>8662.834898</td>\n      <td>10560.485530</td>\n      <td>12999.91766</td>\n      <td>16107.19171</td>\n      <td>18292.63514</td>\n      <td>20293.89746</td>\n      <td>22066.44214</td>\n      <td>24703.79615</td>\n      <td>25889.78487</td>\n      <td>28926.03234</td>\n      <td>30470.01670</td>\n    </tr>\n    <tr>\n      <th>Germany</th>\n      <td>7144.114393</td>\n      <td>10187.826650</td>\n      <td>12902.462910</td>\n      <td>14745.62561</td>\n      <td>18016.18027</td>\n      <td>20512.92123</td>\n      <td>22031.53274</td>\n      <td>24639.18566</td>\n      <td>26505.30317</td>\n      <td>27788.88416</td>\n      <td>30035.80198</td>\n      <td>32170.37442</td>\n    </tr>\n    <tr>\n      <th>Iceland</th>\n      <td>7267.688428</td>\n      <td>9244.001412</td>\n      <td>10350.159060</td>\n      <td>13319.89568</td>\n      <td>15798.06362</td>\n      <td>19654.96247</td>\n      <td>23269.60750</td>\n      <td>26923.20628</td>\n      <td>25144.39201</td>\n      <td>28061.09966</td>\n      <td>31163.20196</td>\n      <td>36180.78919</td>\n    </tr>\n    <tr>\n      <th>Netherlands</th>\n      <td>8941.571858</td>\n      <td>11276.193440</td>\n      <td>12790.849560</td>\n      <td>15363.25136</td>\n      <td>18794.74567</td>\n      <td>21209.05920</td>\n      <td>21399.46046</td>\n      <td>23651.32361</td>\n      <td>26790.94961</td>\n      <td>30246.13063</td>\n      <td>33724.75778</td>\n      <td>36797.93332</td>\n    </tr>\n    <tr>\n      <th>Norway</th>\n      <td>10095.421720</td>\n      <td>11653.973040</td>\n      <td>13450.401510</td>\n      <td>16361.87647</td>\n      <td>18965.05551</td>\n      <td>23311.34939</td>\n      <td>26298.63531</td>\n      <td>31540.97480</td>\n      <td>33965.66115</td>\n      <td>41283.16433</td>\n      <td>44683.97525</td>\n      <td>49357.19017</td>\n    </tr>\n    <tr>\n      <th>Sweden</th>\n      <td>8527.844662</td>\n      <td>9911.878226</td>\n      <td>12329.441920</td>\n      <td>15258.29697</td>\n      <td>17832.02464</td>\n      <td>18855.72521</td>\n      <td>20667.38125</td>\n      <td>23586.92927</td>\n      <td>23880.01683</td>\n      <td>25266.59499</td>\n      <td>29341.63093</td>\n      <td>33859.74835</td>\n    </tr>\n    <tr>\n      <th>Switzerland</th>\n      <td>14734.232750</td>\n      <td>17909.489730</td>\n      <td>20431.092700</td>\n      <td>22966.14432</td>\n      <td>27195.11304</td>\n      <td>26982.29052</td>\n      <td>28397.71512</td>\n      <td>30281.70459</td>\n      <td>31871.53030</td>\n      <td>32135.32301</td>\n      <td>34480.95771</td>\n      <td>37506.41907</td>\n    </tr>\n    <tr>\n      <th>United Kingdom</th>\n      <td>9979.508487</td>\n      <td>11283.177950</td>\n      <td>12477.177070</td>\n      <td>14142.85089</td>\n      <td>15895.11641</td>\n      <td>17428.74846</td>\n      <td>18232.42452</td>\n      <td>21664.78767</td>\n      <td>22705.09254</td>\n      <td>26074.53136</td>\n      <td>29478.99919</td>\n      <td>33203.26128</td>\n    </tr>\n  </tbody>\n</table>\n</div>",
            "text/plain": "                gdpPercap_1952  gdpPercap_1957  gdpPercap_1962  \\\ncountry                                                          \nAustria            6137.076492     8842.598030    10750.721110   \nBelgium            8343.105127     9714.960623    10991.206760   \nCzech Republic     6876.140250     8256.343918    10136.867130   \nDenmark            9692.385245    11099.659350    13583.313510   \nFinland            6424.519071     7545.415386     9371.842561   \nFrance             7029.809327     8662.834898    10560.485530   \nGermany            7144.114393    10187.826650    12902.462910   \nIceland            7267.688428     9244.001412    10350.159060   \nNetherlands        8941.571858    11276.193440    12790.849560   \nNorway            10095.421720    11653.973040    13450.401510   \nSweden             8527.844662     9911.878226    12329.441920   \nSwitzerland       14734.232750    17909.489730    20431.092700   \nUnited Kingdom     9979.508487    11283.177950    12477.177070   \n\n                gdpPercap_1967  gdpPercap_1972  gdpPercap_1977  \\\ncountry                                                          \nAustria            12834.60240     16661.62560     19749.42230   \nBelgium            13149.04119     16672.14356     19117.97448   \nCzech Republic     11399.44489     13108.45360     14800.16062   \nDenmark            15937.21123     18866.20721     20422.90150   \nFinland            10921.63626     14358.87590     15605.42283   \nFrance             12999.91766     16107.19171     18292.63514   \nGermany            14745.62561     18016.18027     20512.92123   \nIceland            13319.89568     15798.06362     19654.96247   \nNetherlands        15363.25136     18794.74567     21209.05920   \nNorway             16361.87647     18965.05551     23311.34939   \nSweden             15258.29697     17832.02464     18855.72521   \nSwitzerland        22966.14432     27195.11304     26982.29052   \nUnited Kingdom     14142.85089     15895.11641     17428.74846   \n\n                gdpPercap_1982  gdpPercap_1987  gdpPercap_1992  \\\ncountry                                                          \nAustria            21597.08362     23687.82607     27042.01868   \nBelgium            20979.84589     22525.56308     25575.57069   \nCzech Republic     15377.22855     16310.44340     14297.02122   \nDenmark            21688.04048     25116.17581     26406.73985   \nFinland            18533.15761     21141.01223     20647.16499   \nFrance             20293.89746     22066.44214     24703.79615   \nGermany            22031.53274     24639.18566     26505.30317   \nIceland            23269.60750     26923.20628     25144.39201   \nNetherlands        21399.46046     23651.32361     26790.94961   \nNorway             26298.63531     31540.97480     33965.66115   \nSweden             20667.38125     23586.92927     23880.01683   \nSwitzerland        28397.71512     30281.70459     31871.53030   \nUnited Kingdom     18232.42452     21664.78767     22705.09254   \n\n                gdpPercap_1997  gdpPercap_2002  gdpPercap_2007  \ncountry                                                         \nAustria            29095.92066     32417.60769     36126.49270  \nBelgium            27561.19663     30485.88375     33692.60508  \nCzech Republic     16048.51424     17596.21022     22833.30851  \nDenmark            29804.34567     32166.50006     35278.41874  \nFinland            23723.95020     28204.59057     33207.08440  \nFrance             25889.78487     28926.03234     30470.01670  \nGermany            27788.88416     30035.80198     32170.37442  \nIceland            28061.09966     31163.20196     36180.78919  \nNetherlands        30246.13063     33724.75778     36797.93332  \nNorway             41283.16433     44683.97525     49357.19017  \nSweden             25266.59499     29341.63093     33859.74835  \nSwitzerland        32135.32301     34480.95771     37506.41907  \nUnited Kingdom     26074.53136     29478.99919     33203.26128  "
          },
          "metadata": {}
        }
      ]
    },
    {
      "metadata": {},
      "cell_type": "markdown",
      "source": "# The answer is 13!"
    },
    {
      "metadata": {},
      "cell_type": "markdown",
      "source": "- Are there any missing values?  Where?"
    },
    {
      "metadata": {
        "trusted": true
      },
      "cell_type": "code",
      "source": "newInfo.info()",
      "execution_count": 13,
      "outputs": [
        {
          "output_type": "stream",
          "text": "<class 'pandas.core.frame.DataFrame'>\nIndex: 13 entries, Austria to United Kingdom\nData columns (total 12 columns):\ngdpPercap_1952    13 non-null float64\ngdpPercap_1957    13 non-null float64\ngdpPercap_1962    13 non-null float64\ngdpPercap_1967    13 non-null float64\ngdpPercap_1972    13 non-null float64\ngdpPercap_1977    13 non-null float64\ngdpPercap_1982    13 non-null float64\ngdpPercap_1987    13 non-null float64\ngdpPercap_1992    13 non-null float64\ngdpPercap_1997    13 non-null float64\ngdpPercap_2002    13 non-null float64\ngdpPercap_2007    13 non-null float64\ndtypes: float64(12)\nmemory usage: 1.3+ KB\n",
          "name": "stdout"
        }
      ]
    },
    {
      "metadata": {
        "trusted": true
      },
      "cell_type": "code",
      "source": "newInfo.isnull().sum()",
      "execution_count": 14,
      "outputs": [
        {
          "output_type": "execute_result",
          "execution_count": 14,
          "data": {
            "text/plain": "gdpPercap_1952    0\ngdpPercap_1957    0\ngdpPercap_1962    0\ngdpPercap_1967    0\ngdpPercap_1972    0\ngdpPercap_1977    0\ngdpPercap_1982    0\ngdpPercap_1987    0\ngdpPercap_1992    0\ngdpPercap_1997    0\ngdpPercap_2002    0\ngdpPercap_2007    0\ndtype: int64"
          },
          "metadata": {}
        }
      ]
    },
    {
      "metadata": {},
      "cell_type": "markdown",
      "source": "- What does the following line of code do?\n\n```python\nmask_higher = data.apply(lambda x:x>x.mean())\n```"
    },
    {
      "metadata": {
        "trusted": true
      },
      "cell_type": "code",
      "source": "mask_higher = newInfo.apply(lambda x:x>x.mean())\nmask_higher",
      "execution_count": 15,
      "outputs": [
        {
          "output_type": "execute_result",
          "execution_count": 15,
          "data": {
            "text/html": "<div>\n<table border=\"1\" class=\"dataframe\">\n  <thead>\n    <tr style=\"text-align: right;\">\n      <th></th>\n      <th>gdpPercap_1952</th>\n      <th>gdpPercap_1957</th>\n      <th>gdpPercap_1962</th>\n      <th>gdpPercap_1967</th>\n      <th>gdpPercap_1972</th>\n      <th>gdpPercap_1977</th>\n      <th>gdpPercap_1982</th>\n      <th>gdpPercap_1987</th>\n      <th>gdpPercap_1992</th>\n      <th>gdpPercap_1997</th>\n      <th>gdpPercap_2002</th>\n      <th>gdpPercap_2007</th>\n    </tr>\n    <tr>\n      <th>country</th>\n      <th></th>\n      <th></th>\n      <th></th>\n      <th></th>\n      <th></th>\n      <th></th>\n      <th></th>\n      <th></th>\n      <th></th>\n      <th></th>\n      <th></th>\n      <th></th>\n    </tr>\n  </thead>\n  <tbody>\n    <tr>\n      <th>Austria</th>\n      <td>False</td>\n      <td>False</td>\n      <td>False</td>\n      <td>False</td>\n      <td>False</td>\n      <td>True</td>\n      <td>True</td>\n      <td>False</td>\n      <td>True</td>\n      <td>True</td>\n      <td>True</td>\n      <td>True</td>\n    </tr>\n    <tr>\n      <th>Belgium</th>\n      <td>False</td>\n      <td>False</td>\n      <td>False</td>\n      <td>False</td>\n      <td>False</td>\n      <td>False</td>\n      <td>False</td>\n      <td>False</td>\n      <td>True</td>\n      <td>False</td>\n      <td>False</td>\n      <td>False</td>\n    </tr>\n    <tr>\n      <th>Czech Republic</th>\n      <td>False</td>\n      <td>False</td>\n      <td>False</td>\n      <td>False</td>\n      <td>False</td>\n      <td>False</td>\n      <td>False</td>\n      <td>False</td>\n      <td>False</td>\n      <td>False</td>\n      <td>False</td>\n      <td>False</td>\n    </tr>\n    <tr>\n      <th>Denmark</th>\n      <td>True</td>\n      <td>True</td>\n      <td>True</td>\n      <td>True</td>\n      <td>True</td>\n      <td>True</td>\n      <td>True</td>\n      <td>True</td>\n      <td>True</td>\n      <td>True</td>\n      <td>True</td>\n      <td>True</td>\n    </tr>\n    <tr>\n      <th>Finland</th>\n      <td>False</td>\n      <td>False</td>\n      <td>False</td>\n      <td>False</td>\n      <td>False</td>\n      <td>False</td>\n      <td>False</td>\n      <td>False</td>\n      <td>False</td>\n      <td>False</td>\n      <td>False</td>\n      <td>False</td>\n    </tr>\n    <tr>\n      <th>France</th>\n      <td>False</td>\n      <td>False</td>\n      <td>False</td>\n      <td>False</td>\n      <td>False</td>\n      <td>False</td>\n      <td>False</td>\n      <td>False</td>\n      <td>False</td>\n      <td>False</td>\n      <td>False</td>\n      <td>False</td>\n    </tr>\n    <tr>\n      <th>Germany</th>\n      <td>False</td>\n      <td>False</td>\n      <td>True</td>\n      <td>True</td>\n      <td>True</td>\n      <td>True</td>\n      <td>True</td>\n      <td>True</td>\n      <td>True</td>\n      <td>False</td>\n      <td>False</td>\n      <td>False</td>\n    </tr>\n    <tr>\n      <th>Iceland</th>\n      <td>False</td>\n      <td>False</td>\n      <td>False</td>\n      <td>False</td>\n      <td>False</td>\n      <td>False</td>\n      <td>True</td>\n      <td>True</td>\n      <td>False</td>\n      <td>True</td>\n      <td>True</td>\n      <td>True</td>\n    </tr>\n    <tr>\n      <th>Netherlands</th>\n      <td>True</td>\n      <td>True</td>\n      <td>True</td>\n      <td>True</td>\n      <td>True</td>\n      <td>True</td>\n      <td>False</td>\n      <td>False</td>\n      <td>True</td>\n      <td>True</td>\n      <td>True</td>\n      <td>True</td>\n    </tr>\n    <tr>\n      <th>Norway</th>\n      <td>True</td>\n      <td>True</td>\n      <td>True</td>\n      <td>True</td>\n      <td>True</td>\n      <td>True</td>\n      <td>True</td>\n      <td>True</td>\n      <td>True</td>\n      <td>True</td>\n      <td>True</td>\n      <td>True</td>\n    </tr>\n    <tr>\n      <th>Sweden</th>\n      <td>False</td>\n      <td>False</td>\n      <td>True</td>\n      <td>True</td>\n      <td>True</td>\n      <td>False</td>\n      <td>False</td>\n      <td>False</td>\n      <td>False</td>\n      <td>False</td>\n      <td>False</td>\n      <td>False</td>\n    </tr>\n    <tr>\n      <th>Switzerland</th>\n      <td>True</td>\n      <td>True</td>\n      <td>True</td>\n      <td>True</td>\n      <td>True</td>\n      <td>True</td>\n      <td>True</td>\n      <td>True</td>\n      <td>True</td>\n      <td>True</td>\n      <td>True</td>\n      <td>True</td>\n    </tr>\n    <tr>\n      <th>United Kingdom</th>\n      <td>True</td>\n      <td>True</td>\n      <td>True</td>\n      <td>False</td>\n      <td>False</td>\n      <td>False</td>\n      <td>False</td>\n      <td>False</td>\n      <td>False</td>\n      <td>False</td>\n      <td>False</td>\n      <td>False</td>\n    </tr>\n  </tbody>\n</table>\n</div>",
            "text/plain": "               gdpPercap_1952 gdpPercap_1957 gdpPercap_1962 gdpPercap_1967  \\\ncountry                                                                      \nAustria                 False          False          False          False   \nBelgium                 False          False          False          False   \nCzech Republic          False          False          False          False   \nDenmark                  True           True           True           True   \nFinland                 False          False          False          False   \nFrance                  False          False          False          False   \nGermany                 False          False           True           True   \nIceland                 False          False          False          False   \nNetherlands              True           True           True           True   \nNorway                   True           True           True           True   \nSweden                  False          False           True           True   \nSwitzerland              True           True           True           True   \nUnited Kingdom           True           True           True          False   \n\n               gdpPercap_1972 gdpPercap_1977 gdpPercap_1982 gdpPercap_1987  \\\ncountry                                                                      \nAustria                 False           True           True          False   \nBelgium                 False          False          False          False   \nCzech Republic          False          False          False          False   \nDenmark                  True           True           True           True   \nFinland                 False          False          False          False   \nFrance                  False          False          False          False   \nGermany                  True           True           True           True   \nIceland                 False          False           True           True   \nNetherlands              True           True          False          False   \nNorway                   True           True           True           True   \nSweden                   True          False          False          False   \nSwitzerland              True           True           True           True   \nUnited Kingdom          False          False          False          False   \n\n               gdpPercap_1992 gdpPercap_1997 gdpPercap_2002 gdpPercap_2007  \ncountry                                                                     \nAustria                  True           True           True           True  \nBelgium                  True          False          False          False  \nCzech Republic          False          False          False          False  \nDenmark                  True           True           True           True  \nFinland                 False          False          False          False  \nFrance                  False          False          False          False  \nGermany                  True          False          False          False  \nIceland                 False           True           True           True  \nNetherlands              True           True           True           True  \nNorway                   True           True           True           True  \nSweden                  False          False          False          False  \nSwitzerland              True           True           True           True  \nUnited Kingdom          False          False          False          False  "
          },
          "metadata": {}
        }
      ]
    },
    {
      "metadata": {},
      "cell_type": "markdown",
      "source": "- How about this one?\n\n```python\nwealth_score = mask_higher.aggregate('sum',axis=1)/len(data.columns)\n```"
    },
    {
      "metadata": {
        "trusted": true
      },
      "cell_type": "code",
      "source": "wealth_score = mask_higher.aggregate('sum',axis=1)/len(newInfo.columns)",
      "execution_count": 16,
      "outputs": [
        {
          "output_type": "error",
          "ename": "AttributeError",
          "evalue": "'DataFrame' object has no attribute 'aggregate'",
          "traceback": [
            "\u001b[0;31m---------------------------------------------------------------------------\u001b[0m",
            "\u001b[0;31mAttributeError\u001b[0m                            Traceback (most recent call last)",
            "\u001b[0;32m<ipython-input-16-68e55621fcf0>\u001b[0m in \u001b[0;36m<module>\u001b[0;34m()\u001b[0m\n\u001b[0;32m----> 1\u001b[0;31m \u001b[0mwealth_score\u001b[0m \u001b[0;34m=\u001b[0m \u001b[0mmask_higher\u001b[0m\u001b[0;34m.\u001b[0m\u001b[0maggregate\u001b[0m\u001b[0;34m(\u001b[0m\u001b[0;34m'sum'\u001b[0m\u001b[0;34m,\u001b[0m\u001b[0maxis\u001b[0m\u001b[0;34m=\u001b[0m\u001b[0;36m1\u001b[0m\u001b[0;34m)\u001b[0m\u001b[0;34m/\u001b[0m\u001b[0mlen\u001b[0m\u001b[0;34m(\u001b[0m\u001b[0mnewInfo\u001b[0m\u001b[0;34m.\u001b[0m\u001b[0mcolumns\u001b[0m\u001b[0;34m)\u001b[0m\u001b[0;34m\u001b[0m\u001b[0m\n\u001b[0m",
            "\u001b[0;32m~/anaconda3_420/lib/python3.5/site-packages/pandas/core/generic.py\u001b[0m in \u001b[0;36m__getattr__\u001b[0;34m(self, name)\u001b[0m\n\u001b[1;32m   2742\u001b[0m             \u001b[0;32mif\u001b[0m \u001b[0mname\u001b[0m \u001b[0;32min\u001b[0m \u001b[0mself\u001b[0m\u001b[0;34m.\u001b[0m\u001b[0m_info_axis\u001b[0m\u001b[0;34m:\u001b[0m\u001b[0;34m\u001b[0m\u001b[0m\n\u001b[1;32m   2743\u001b[0m                 \u001b[0;32mreturn\u001b[0m \u001b[0mself\u001b[0m\u001b[0;34m[\u001b[0m\u001b[0mname\u001b[0m\u001b[0;34m]\u001b[0m\u001b[0;34m\u001b[0m\u001b[0m\n\u001b[0;32m-> 2744\u001b[0;31m             \u001b[0;32mreturn\u001b[0m \u001b[0mobject\u001b[0m\u001b[0;34m.\u001b[0m\u001b[0m__getattribute__\u001b[0m\u001b[0;34m(\u001b[0m\u001b[0mself\u001b[0m\u001b[0;34m,\u001b[0m \u001b[0mname\u001b[0m\u001b[0;34m)\u001b[0m\u001b[0;34m\u001b[0m\u001b[0m\n\u001b[0m\u001b[1;32m   2745\u001b[0m \u001b[0;34m\u001b[0m\u001b[0m\n\u001b[1;32m   2746\u001b[0m     \u001b[0;32mdef\u001b[0m \u001b[0m__setattr__\u001b[0m\u001b[0;34m(\u001b[0m\u001b[0mself\u001b[0m\u001b[0;34m,\u001b[0m \u001b[0mname\u001b[0m\u001b[0;34m,\u001b[0m \u001b[0mvalue\u001b[0m\u001b[0;34m)\u001b[0m\u001b[0;34m:\u001b[0m\u001b[0;34m\u001b[0m\u001b[0m\n",
            "\u001b[0;31mAttributeError\u001b[0m: 'DataFrame' object has no attribute 'aggregate'"
          ]
        }
      ]
    },
    {
      "metadata": {
        "trusted": true
      },
      "cell_type": "code",
      "source": "",
      "execution_count": null,
      "outputs": []
    },
    {
      "metadata": {},
      "cell_type": "markdown",
      "source": "- And finally:\n\n```python\ndata.groupby(wealth_score).sum()\n```"
    },
    {
      "metadata": {
        "trusted": true
      },
      "cell_type": "code",
      "source": "",
      "execution_count": null,
      "outputs": []
    },
    {
      "metadata": {},
      "cell_type": "markdown",
      "source": "Write an expression to find the Per Capita GDP of Serbia in 2007."
    },
    {
      "metadata": {
        "trusted": true
      },
      "cell_type": "code",
      "source": "europe.loc['Serbia', 'gdpPercap_2007']",
      "execution_count": null,
      "outputs": []
    },
    {
      "metadata": {
        "trusted": true
      },
      "cell_type": "code",
      "source": "",
      "execution_count": null,
      "outputs": []
    },
    {
      "metadata": {},
      "cell_type": "markdown",
      "source": "\n- What does the following code do?  Explain each line.\n\n```python\nfirst = pandas.read_csv('data/gap_data/gapminder_all.csv', index_col='country')\nsecond = first[first['continent'] == 'Americas']\nthird = second.drop('Puerto Rico')\nfourth = third.drop('continent', axis = 1)\nfourth.to_csv('result.csv')\n```"
    },
    {
      "metadata": {
        "trusted": true
      },
      "cell_type": "code",
      "source": "",
      "execution_count": null,
      "outputs": []
    },
    {
      "metadata": {
        "trusted": true
      },
      "cell_type": "code",
      "source": "",
      "execution_count": null,
      "outputs": []
    },
    {
      "metadata": {},
      "cell_type": "markdown",
      "source": "Write an expression to find the following:\n\n1. GDP per capita for all countries in 1982. *George*\n2. GDP per capita for Denmark for all years. *Max*\n3. GDP per capita for all countries for years after 1985. *Bo*\n4. GDP per capita for each country in 2007 as a multiple of GDP per capita for that country in 1952. *Kashish*"
    },
    {
      "metadata": {},
      "cell_type": "markdown",
      "source": "### Loops and Data Sets"
    },
    {
      "metadata": {
        "trusted": true
      },
      "cell_type": "code",
      "source": "import pandas as pd",
      "execution_count": null,
      "outputs": []
    },
    {
      "metadata": {
        "trusted": true
      },
      "cell_type": "code",
      "source": "for file in ['data/gap_data/gapminder_gdp_africa.csv', 'data/gap_data/gapminder_gdp_asia.csv']:\n    data = pd.read_csv(file, index_col='country')\n    print(file, data.min())",
      "execution_count": null,
      "outputs": []
    },
    {
      "metadata": {},
      "cell_type": "markdown",
      "source": "### Using `glob.glob` to load files\n\nIn Unix, the term “globbing” means “matching a set of files with a pattern”.\nThe most common patterns are:\n- \\* meaning “match zero or more characters”\n- ? meaning “match exactly one character”\n\nPython contains the glob library to provide pattern matching functionality\nThe glob library contains a function also called glob to match file patterns E.g., glob.glob('\\*.txt') matches all files in the current directory whose names end with .txt.\nResult is a (possibly empty) list of character strings."
    },
    {
      "metadata": {
        "trusted": true
      },
      "cell_type": "code",
      "source": "import glob\nprint('all csv files in data directory:', glob.glob('data/gap_data/*.csv'), '\\n')",
      "execution_count": null,
      "outputs": []
    },
    {
      "metadata": {
        "trusted": true
      },
      "cell_type": "code",
      "source": "for filename in glob.glob('data/gap_data/gapminder_*.csv'):\n    data = pd.read_csv(filename)\n    print(filename, data['gdpPercap_1952'].min())",
      "execution_count": null,
      "outputs": []
    },
    {
      "metadata": {},
      "cell_type": "markdown",
      "source": "**PROBLEM**\n\n\nWhich of these files is not matched by the expression glob.glob('data/gap_data/\\*as\\*.csv')?\n\n1. `data/gapminder_gdp_africa.csv`\n2. `data/gapminder_gdp_americas.csv`\n3. `data/gapminder_gdp_asia.csv`\n4. 1 and 2 are not matched."
    },
    {
      "metadata": {
        "trusted": true
      },
      "cell_type": "markdown",
      "source": "The answer is 4, both 1 and two would not work"
    },
    {
      "metadata": {
        "trusted": true
      },
      "cell_type": "code",
      "source": "",
      "execution_count": null,
      "outputs": []
    },
    {
      "metadata": {
        "trusted": true
      },
      "cell_type": "code",
      "source": "",
      "execution_count": null,
      "outputs": []
    },
    {
      "metadata": {
        "trusted": true
      },
      "cell_type": "code",
      "source": "",
      "execution_count": null,
      "outputs": []
    },
    {
      "metadata": {
        "trusted": true
      },
      "cell_type": "code",
      "source": "",
      "execution_count": null,
      "outputs": []
    },
    {
      "metadata": {
        "trusted": true
      },
      "cell_type": "code",
      "source": "",
      "execution_count": null,
      "outputs": []
    },
    {
      "metadata": {
        "trusted": true
      },
      "cell_type": "code",
      "source": "",
      "execution_count": null,
      "outputs": []
    },
    {
      "metadata": {},
      "cell_type": "markdown",
      "source": "### Writing Functions"
    },
    {
      "metadata": {
        "trusted": true
      },
      "cell_type": "code",
      "source": "def hi_there(name):\n    print('Hi there', name)",
      "execution_count": null,
      "outputs": []
    },
    {
      "metadata": {
        "trusted": true
      },
      "cell_type": "code",
      "source": "hi_there('Steve')",
      "execution_count": null,
      "outputs": []
    },
    {
      "metadata": {},
      "cell_type": "markdown",
      "source": "Using `return` in functions:\n\nUse return ... to give a value back to the caller.\nMay occur anywhere in the function.\nBut functions are easier to understand if return occurs:\n- At the start to handle special cases.\n- At the very end, with a final result."
    },
    {
      "metadata": {
        "trusted": true
      },
      "cell_type": "code",
      "source": "def average(values):\n    if len(values) == 0:\n        return None\n    return sum(values) / len(values)",
      "execution_count": null,
      "outputs": []
    },
    {
      "metadata": {
        "trusted": true
      },
      "cell_type": "code",
      "source": "average([3, 4, 5])",
      "execution_count": null,
      "outputs": []
    },
    {
      "metadata": {},
      "cell_type": "markdown",
      "source": "**PROBLEM**\n\n\nFill in the blanks to create a function that takes a single filename as an argument, loads the data in the file named by the argument, and returns the minimum value in that data\n\n```python\nimport pandas\n\ndef min_in_data(____):\n    data = ____\n    return ____\n```"
    },
    {
      "metadata": {
        "trusted": true
      },
      "cell_type": "code",
      "source": "def min_in_data(filepath):\n    data = pd.read_csv(filepath)\n    return data.min()",
      "execution_count": null,
      "outputs": []
    },
    {
      "metadata": {
        "trusted": true
      },
      "cell_type": "code",
      "source": "min_in_data('data/gap_data/gapminder_all.csv')",
      "execution_count": null,
      "outputs": []
    },
    {
      "metadata": {
        "trusted": true
      },
      "cell_type": "code",
      "source": "",
      "execution_count": null,
      "outputs": []
    },
    {
      "metadata": {},
      "cell_type": "markdown",
      "source": "**PROBLEM**\n\nAssume the code below has been executed:\n\n```python\nimport pandas as pd\n\ndf = pd.read_csv('data/gap_data/gapminder_gdp_asia.csv', index_col=0)\njapan = df.loc['Japan']\n```\n\n- Complete the statements below to obtain the average GDP for Japan across the years reported for the 1980s.\n\n```python\nyear = 1983\ngdp_decade = 'gdpPercap_' + str(year // ____)\navg = (japan.loc[gdp_decade + ___] + japan.loc[gdp_decade + ___]) / 2\n```\n\n\n- Abstract the code above into a single function.\n\n```python\ndef avg_gdp_in_decade(country, continent, year):\n    df = pandas.read_csv('data/gapminder_gdp_'+___+'.csv',delimiter=',',index_col=0)\n    ____\n    ____\n    ____\n    return avg\n```"
    },
    {
      "metadata": {
        "trusted": true
      },
      "cell_type": "code",
      "source": "df = pd.read_csv('data/gap_data/gapminder_gdp_asia.csv', index_col=0)\njapan = df.loc['Japan']\nyear = 1983\ngdp_decade = 'gdpPercap_' + str(year // 10)\navg = (japan.loc[gdp_decade + '2'] + japan.loc[gdp_decade + '7']) / 2",
      "execution_count": null,
      "outputs": []
    },
    {
      "metadata": {
        "trusted": true
      },
      "cell_type": "code",
      "source": "def eighties_avg(filepath, country):\n    df = pd.read_csv(filepath, index_col=0)\n    c = df.loc[country]\n    year = 1983\n    gdp_decade = 'gdpPercap_' + str(year // 10)\n    avg = (c.loc[gdp_decade + '2'] + c.loc[gdp_decade + '7']) / 2\n    print('The average in the 80s for ', country, 'was', avg)\n    return avg",
      "execution_count": null,
      "outputs": []
    },
    {
      "metadata": {
        "trusted": true
      },
      "cell_type": "code",
      "source": "eighties_avg('data/gap_data/gapminder_gdp_asia.csv', 'Afghanistan')",
      "execution_count": null,
      "outputs": []
    },
    {
      "metadata": {
        "trusted": true
      },
      "cell_type": "code",
      "source": "",
      "execution_count": null,
      "outputs": []
    },
    {
      "metadata": {
        "trusted": true
      },
      "cell_type": "code",
      "source": "str(year // 10)",
      "execution_count": null,
      "outputs": []
    },
    {
      "metadata": {
        "trusted": true
      },
      "cell_type": "code",
      "source": "year / 10",
      "execution_count": null,
      "outputs": []
    },
    {
      "metadata": {
        "trusted": true
      },
      "cell_type": "code",
      "source": "str(year // 10) + '2'",
      "execution_count": null,
      "outputs": []
    },
    {
      "metadata": {
        "trusted": true
      },
      "cell_type": "code",
      "source": "",
      "execution_count": null,
      "outputs": []
    },
    {
      "metadata": {
        "trusted": true
      },
      "cell_type": "code",
      "source": "",
      "execution_count": null,
      "outputs": []
    }
  ],
  "metadata": {
    "kernelspec": {
      "name": "python3",
      "display_name": "Python 3",
      "language": "python"
    },
    "language_info": {
      "mimetype": "text/x-python",
      "nbconvert_exporter": "python",
      "name": "python",
      "file_extension": ".py",
      "version": "3.5.4",
      "pygments_lexer": "ipython3",
      "codemirror_mode": {
        "version": 3,
        "name": "ipython"
      }
    }
  },
  "nbformat": 4,
  "nbformat_minor": 2
}